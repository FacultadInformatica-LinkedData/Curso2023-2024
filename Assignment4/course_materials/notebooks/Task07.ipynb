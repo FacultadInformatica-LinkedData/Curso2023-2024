{
  "cells": [
    {
      "cell_type": "markdown",
      "metadata": {
        "id": "nOOPLCHF7hLB"
      },
      "source": [
        "**Task 07: Querying RDF(s)**"
      ]
    },
    {
      "cell_type": "code",
      "execution_count": null,
      "metadata": {
        "colab": {
          "base_uri": "https://localhost:8080/",
          "height": 211
        },
        "id": "Yl9npCt8n6m-",
        "outputId": "096014c0-f1ad-4bd6-bada-ab3561ff1367"
      },
      "outputs": [
        {
          "name": "stdout",
          "output_type": "stream",
          "text": [
            "Requirement already satisfied: rdflib in /home/dgarijo/Documents/GitHub/Curso2021-2022/env_3.9/lib/python3.9/site-packages (6.0.1)\n",
            "Requirement already satisfied: isodate in /home/dgarijo/Documents/GitHub/Curso2021-2022/env_3.9/lib/python3.9/site-packages (from rdflib) (0.6.0)\n",
            "Requirement already satisfied: setuptools in /home/dgarijo/Documents/GitHub/Curso2021-2022/env_3.9/lib/python3.9/site-packages (from rdflib) (44.1.1)\n",
            "Requirement already satisfied: pyparsing in /home/dgarijo/Documents/GitHub/Curso2021-2022/env_3.9/lib/python3.9/site-packages (from rdflib) (2.4.7)\n",
            "Requirement already satisfied: six in /home/dgarijo/Documents/GitHub/Curso2021-2022/env_3.9/lib/python3.9/site-packages (from isodate->rdflib) (1.16.0)\n"
          ]
        }
      ],
      "source": [
        "!pip install rdflib\n",
        "github_storage = \"https://raw.githubusercontent.com/FacultadInformatica-LinkedData/Curso2023-2024/master/Assignment4/course_materials\""
      ]
    },
    {
      "cell_type": "markdown",
      "metadata": {
        "id": "XY7aPc86Bqoo"
      },
      "source": [
        "First let's read the RDF file"
      ]
    },
    {
      "cell_type": "code",
      "execution_count": null,
      "metadata": {
        "colab": {
          "base_uri": "https://localhost:8080/",
          "height": 35
        },
        "id": "9ERh415on7kF",
        "outputId": "395dc571-ef76-4330-cf4b-0b9db3aa5277"
      },
      "outputs": [
        {
          "data": {
            "text/plain": [
              "<Graph identifier=N743faa1dfcd04f438f1129d2ddcd40f6 (<class 'rdflib.graph.Graph'>)>"
            ]
          },
          "execution_count": 2,
          "metadata": {},
          "output_type": "execute_result"
        }
      ],
      "source": [
        "from rdflib import Graph, Namespace, Literal\n",
        "from rdflib.namespace import RDF, RDFS\n",
        "g = Graph()\n",
        "g.namespace_manager.bind('ns', Namespace(\"http://somewhere#\"), override=False)\n",
        "g.namespace_manager.bind('vcard', Namespace(\"http://www.w3.org/2001/vcard-rdf/3.0#\"), override=False)\n",
        "g.parse(github_storage+\"/rdf/example6.rdf\", format=\"xml\")"
      ]
    },
    {
      "cell_type": "markdown",
      "metadata": {
        "id": "qp1oe2Eddsvo"
      },
      "source": [
        "**TASK 7.1: List all subclasses of \"LivingThing\" with RDFLib and SPARQL**"
      ]
    },
    {
      "cell_type": "code",
      "execution_count": null,
      "metadata": {
        "id": "tRcSWuMHOXBl"
      },
      "outputs": [],
      "source": [
        "from rdflib.plugins.sparql import prepareQuery\n",
        "\n",
        "q1 = prepareQuery('''\n",
        "  SELECT ?SubClass\n",
        "  WHERE {\n",
        "    ?SubClass rdfs:subClassOf/rdfs:subClassOf* <http://somewhere#LivingThing>.\n",
        "  }\n",
        "  ''',\n",
        "  initNs = {\"rdfs\": RDFS}\n",
        ")\n",
        "\n",
        "for r in g.query(q1):\n",
        "  print(r.SubClass)"
      ]
    },
    {
      "cell_type": "markdown",
      "metadata": {
        "id": "gM3DASkTQQ5Y"
      },
      "source": [
        "**TASK 7.2: List all individuals of \"Person\" with RDFLib and SPARQL (remember the subClasses)**\n"
      ]
    },
    {
      "cell_type": "code",
      "execution_count": null,
      "metadata": {
        "id": "LiKSPHRzS-XJ"
      },
      "outputs": [],
      "source": [
        "q2 = prepareQuery('''\n",
        "  SELECT ?individual\n",
        "  WHERE {\n",
        "    ?individual rdf:type/rdfs:subClassOf* <http://somewhere#Person>.\n",
        "  }\n",
        "  ''',\n",
        "  initNs = {\"rdfs\": RDFS, \"rdf\": RDF}\n",
        ")\n",
        "\n",
        "for r in g.query(q2):\n",
        "  print(r.individual)"
      ]
    },
    {
      "cell_type": "markdown",
      "metadata": {
        "id": "MXBqtBkJd22I"
      },
      "source": [
        "**TASK 7.3: List all individuals of \"Person\" or \"Animal\" and all their properties including their class with RDFLib and SPARQL. You do not need to list the individuals of the subclasses of person**\n"
      ]
    },
    {
      "cell_type": "code",
      "execution_count": null,
      "metadata": {
        "id": "APQGv3NHX8Tf"
      },
      "outputs": [],
      "source": [
        "q3 = prepareQuery('''\n",
        "  SELECT ?individual ?prop ?v\n",
        "  WHERE {\n",
        "    ?individual rdf:type/rdfs:subClassOf* ?class.\n",
        "    FILTER (?class = <http://somewhere#Person> || ?class = <http://somewhere#Animal>).\n",
        "    ?individual ?prop ?v.\n",
        "  }\n",
        "  ''',\n",
        "  initNs = {\"rdfs\": RDFS, \"rdf\": RDF}\n",
        ")\n",
        "for r in g.query(q3):\n",
        "  print(r.individual, r.prop)"
      ]
    },
    {
      "cell_type": "markdown",
      "metadata": {
        "id": "3NyI7M2VNr9R"
      },
      "source": [
        "**TASK 7.4:  List the name of the persons who know Rocky**"
      ]
    },
    {
      "cell_type": "code",
      "execution_count": 1,
      "metadata": {
        "id": "I_CNoIKdNpbx"
      },
      "outputs": [],
      "source": [
        "from rdflib import FOAF\n",
        "\n",
        "VCARD = Namespace(\"http://www.w3.org/2001/vcard-rdf/3.0/\")\n",
        "\n",
        "q4 = prepareQuery('''\n",
        "  SELECT ?person ?given\n",
        "    WHERE {\n",
        "    <http://somewhere#RockySmith> foaf:knows ?person.\n",
        "    ?person vcard:Given ?given.\n",
        "  }\n",
        "  ''',\n",
        "  initNs = {\"foaf\": FOAF, \"vcard\": VCARD}\n",
        ")\n",
        "\n",
        "for r in g.query(q4):\n",
        "  print(r.given)"
      ]
    },
    {
      "cell_type": "markdown",
      "metadata": {
        "id": "kyjGsyxDPa2C"
      },
      "source": [
        "**Task 7.5: List the entities who know at least two other entities in the graph**"
      ]
    },
    {
      "cell_type": "code",
      "execution_count": null,
      "metadata": {
        "id": "yoVwVZUAPaLm"
      },
      "outputs": [],
      "source": [
        "q5 = prepareQuery('''\n",
        "  SELECT ?entity ?person\n",
        "    WHERE {\n",
        "    ?entity foaf:knows ?person.\n",
        "    }\n",
        "    GROUP BY ?entity\n",
        "    HAVING (COUNT(?person) >= 2)\n",
        "  ''',\n",
        "  initNs = {\"foaf\": FOAF}\n",
        ")\n",
        "\n",
        "for r in g.query(q5):\n",
        "  print(r.entity)"
      ]
    }
  ],
  "metadata": {
    "colab": {
      "provenance": []
    },
    "kernelspec": {
      "display_name": "Python 3 (ipykernel)",
      "language": "python",
      "name": "python3"
    },
    "language_info": {
      "codemirror_mode": {
        "name": "ipython",
        "version": 3
      },
      "file_extension": ".py",
      "mimetype": "text/x-python",
      "name": "python",
      "nbconvert_exporter": "python",
      "pygments_lexer": "ipython3",
      "version": "3.9.5"
    }
  },
  "nbformat": 4,
  "nbformat_minor": 0
}
