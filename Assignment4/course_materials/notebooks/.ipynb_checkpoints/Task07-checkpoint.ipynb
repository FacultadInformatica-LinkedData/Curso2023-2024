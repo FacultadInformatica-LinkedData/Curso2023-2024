{
 "cells": [
  {
   "cell_type": "markdown",
   "metadata": {
    "id": "nOOPLCHF7hLB"
   },
   "source": [
    "**Task 07: Querying RDF(s)**"
   ]
  },
  {
   "cell_type": "code",
   "execution_count": 1,
   "metadata": {
    "colab": {
     "base_uri": "https://localhost:8080/",
     "height": 211
    },
    "id": "Yl9npCt8n6m-",
    "outputId": "096014c0-f1ad-4bd6-bada-ab3561ff1367"
   },
   "outputs": [
    {
     "name": "stdout",
     "output_type": "stream",
     "text": [
      "Requirement already satisfied: rdflib in /home/javilarron/anaconda3/lib/python3.9/site-packages (7.0.0)\n",
      "Requirement already satisfied: pyparsing<4,>=2.1.0 in /home/javilarron/anaconda3/lib/python3.9/site-packages (from rdflib) (3.0.9)\n",
      "Requirement already satisfied: isodate<0.7.0,>=0.6.0 in /home/javilarron/anaconda3/lib/python3.9/site-packages (from rdflib) (0.6.1)\n",
      "Requirement already satisfied: six in /home/javilarron/anaconda3/lib/python3.9/site-packages (from isodate<0.7.0,>=0.6.0->rdflib) (1.16.0)\n"
     ]
    }
   ],
   "source": [
    "!pip install rdflib\n",
    "github_storage = \"https://raw.githubusercontent.com/FacultadInformatica-LinkedData/Curso2023-2024/master/Assignment4/course_materials\""
   ]
  },
  {
   "cell_type": "markdown",
   "metadata": {
    "id": "XY7aPc86Bqoo"
   },
   "source": [
    "First let's read the RDF file"
   ]
  },
  {
   "cell_type": "code",
   "execution_count": 2,
   "metadata": {
    "colab": {
     "base_uri": "https://localhost:8080/",
     "height": 35
    },
    "id": "9ERh415on7kF",
    "outputId": "395dc571-ef76-4330-cf4b-0b9db3aa5277"
   },
   "outputs": [
    {
     "data": {
      "text/plain": [
       "<Graph identifier=N23fd38efbef94ce7b01a954667a80d01 (<class 'rdflib.graph.Graph'>)>"
      ]
     },
     "execution_count": 2,
     "metadata": {},
     "output_type": "execute_result"
    }
   ],
   "source": [
    "from rdflib import Graph, Namespace, Literal\n",
    "from rdflib.namespace import RDF, RDFS\n",
    "g = Graph()\n",
    "g.namespace_manager.bind('ns', Namespace(\"http://somewhere#\"), override=False)\n",
    "g.namespace_manager.bind('vcard', Namespace(\"http://www.w3.org/2001/vcard-rdf/3.0#\"), override=False)\n",
    "g.parse(github_storage+\"/rdf/example6.rdf\", format=\"xml\")"
   ]
  },
  {
   "cell_type": "markdown",
   "metadata": {
    "id": "qp1oe2Eddsvo"
   },
   "source": [
    "**TASK 7.1: List all subclasses of \"LivingThing\" with RDFLib and SPARQL**"
   ]
  },
  {
   "cell_type": "code",
   "execution_count": 6,
   "metadata": {
    "id": "tRcSWuMHOXBl"
   },
   "outputs": [
    {
     "name": "stdout",
     "output_type": "stream",
     "text": [
      "\n",
      "TASK 7.1 Results with RDFLib:\n",
      "http://somewhere#LivingThing\n",
      "http://somewhere#Person\n",
      "http://somewhere#Researcher\n",
      "http://somewhere#PhDstudent\n",
      "http://somewhere#Professor\n",
      "http://somewhere#Animal\n",
      "\n",
      "TASK 7.1 Results with SPARQL:\n",
      "http://somewhere#LivingThing\n",
      "http://somewhere#Person\n",
      "http://somewhere#Researcher\n",
      "http://somewhere#PhDstudent\n",
      "http://somewhere#Professor\n",
      "http://somewhere#Animal\n"
     ]
    }
   ],
   "source": [
    "ns = Namespace(\"http://somewhere#\")\n",
    "q1 = \"\"\"\n",
    "    SELECT ?subClass\n",
    "    WHERE {\n",
    "        ?subClass rdfs:subClassOf* ns:LivingThing .\n",
    "    }\n",
    "\"\"\"\n",
    "\n",
    "living_thing_subclasses = list(g.transitive_subjects(RDFS.subClassOf, ns.LivingThing))\n",
    "\n",
    "# Visualize the results\n",
    "print(\"\\nTASK 7.1 Results with RDFLib:\")\n",
    "for subclass in living_thing_subclasses:\n",
    "    print(subclass)\n",
    "\n",
    "print(\"\\nTASK 7.1 Results with SPARQL:\")\n",
    "for row in g.query(q1):\n",
    "    print(row.subClass)"
   ]
  },
  {
   "cell_type": "markdown",
   "metadata": {
    "id": "gM3DASkTQQ5Y"
   },
   "source": [
    "**TASK 7.2: List all individuals of \"Person\" with RDFLib and SPARQL (remember the subClasses)**\n"
   ]
  },
  {
   "cell_type": "code",
   "execution_count": 7,
   "metadata": {
    "id": "LiKSPHRzS-XJ"
   },
   "outputs": [
    {
     "name": "stdout",
     "output_type": "stream",
     "text": [
      "\n",
      "TASK 7.2 Results with RDFLib:\n",
      "http://somewhere#SaraJones\n",
      "http://somewhere#JohnSmith\n",
      "http://somewhere#JaneSmith\n",
      "http://somewhere#JimGonzalez\n",
      "\n",
      "TASK 7.2 Results with SPARQL:\n",
      "http://somewhere#SaraJones\n",
      "http://somewhere#JohnSmith\n",
      "http://somewhere#JaneSmith\n",
      "http://somewhere#JimGonzalez\n"
     ]
    }
   ],
   "source": [
    "q2 = \"\"\"\n",
    "    SELECT ?individual\n",
    "    WHERE {\n",
    "        ?individual rdf:type/rdfs:subClassOf* ns:Person.\n",
    "    }\n",
    "\"\"\"\n",
    "\n",
    "person_individuals = list(g.subjects(RDF.type, ns.Person))\n",
    "person_subclasses = list(g.subjects(RDFS.subClassOf, ns.Person))\n",
    "for subclass in person_subclasses:\n",
    "    person_individuals.extend(list(g.subjects(RDF.type, subclass)))\n",
    "\n",
    "# Visualize the results\n",
    "print(\"\\nTASK 7.2 Results with RDFLib:\")\n",
    "for individual in person_individuals:\n",
    "    print(individual)\n",
    "\n",
    "print(\"\\nTASK 7.2 Results with SPARQL:\")\n",
    "for row in g.query(q2):\n",
    "    print(row.individual)"
   ]
  },
  {
   "cell_type": "markdown",
   "metadata": {
    "id": "MXBqtBkJd22I"
   },
   "source": [
    "**TASK 7.3: List all individuals of \"Person\" or \"Animal\" and all their properties including their class with RDFLib and SPARQL. You do not need to list the individuals of the subclasses of person**\n"
   ]
  },
  {
   "cell_type": "code",
   "execution_count": 5,
   "metadata": {
    "id": "APQGv3NHX8Tf"
   },
   "outputs": [
    {
     "name": "stdout",
     "output_type": "stream",
     "text": [
      "\n",
      "TASK 7.3 Results with RDFLib:\n",
      "http://somewhere#SaraJones http://www.w3.org/1999/02/22-rdf-syntax-ns#type http://somewhere#Person\n",
      "http://somewhere#SaraJones http://www.w3.org/2001/vcard-rdf/3.0/Given Sara\n",
      "http://somewhere#SaraJones http://www.w3.org/2001/vcard-rdf/3.0/FN Sara Jones\n",
      "http://somewhere#SaraJones http://www.w3.org/2001/vcard-rdf/3.0/Family Jones\n",
      "http://somewhere#SaraJones http://xmlns.com/foaf/0.1/knows http://somewhere#RockySmith\n",
      "http://somewhere#SaraJones http://xmlns.com/foaf/0.1/knows http://somewhere#JaneSmith\n",
      "http://somewhere#JohnSmith http://www.w3.org/1999/02/22-rdf-syntax-ns#type http://somewhere#Person\n",
      "http://somewhere#JohnSmith http://www.w3.org/2001/vcard-rdf/3.0/Given John\n",
      "http://somewhere#JohnSmith http://www.w3.org/2001/vcard-rdf/3.0/FN John Smith\n",
      "http://somewhere#JohnSmith http://www.w3.org/2001/vcard-rdf/3.0/Family Smith\n",
      "http://somewhere#RockySmith http://www.w3.org/1999/02/22-rdf-syntax-ns#type http://somewhere#Animal\n",
      "http://somewhere#RockySmith http://www.w3.org/2001/vcard-rdf/3.0/Given Rocky\n",
      "http://somewhere#RockySmith http://www.w3.org/2001/vcard-rdf/3.0/FN Rocky Smith\n",
      "http://somewhere#RockySmith http://www.w3.org/2001/vcard-rdf/3.0/Family Smith\n",
      "http://somewhere#RockySmith http://xmlns.com/foaf/0.1/knows http://somewhere#JaneSmith\n",
      "http://somewhere#RockySmith http://xmlns.com/foaf/0.1/knows http://somewhere#SaraJones\n",
      "\n",
      "TASK 7.3 Results with RDFLib:\n",
      "http://somewhere#SaraJones http://www.w3.org/1999/02/22-rdf-syntax-ns#type http://somewhere#Person\n",
      "http://somewhere#SaraJones http://www.w3.org/2001/vcard-rdf/3.0/Given Sara\n",
      "http://somewhere#SaraJones http://www.w3.org/2001/vcard-rdf/3.0/FN Sara Jones\n",
      "http://somewhere#SaraJones http://www.w3.org/2001/vcard-rdf/3.0/Family Jones\n",
      "http://somewhere#SaraJones http://xmlns.com/foaf/0.1/knows http://somewhere#RockySmith\n",
      "http://somewhere#SaraJones http://xmlns.com/foaf/0.1/knows http://somewhere#JaneSmith\n",
      "http://somewhere#JohnSmith http://www.w3.org/1999/02/22-rdf-syntax-ns#type http://somewhere#Person\n",
      "http://somewhere#JohnSmith http://www.w3.org/2001/vcard-rdf/3.0/Given John\n",
      "http://somewhere#JohnSmith http://www.w3.org/2001/vcard-rdf/3.0/FN John Smith\n",
      "http://somewhere#JohnSmith http://www.w3.org/2001/vcard-rdf/3.0/Family Smith\n",
      "http://somewhere#RockySmith http://www.w3.org/1999/02/22-rdf-syntax-ns#type http://somewhere#Animal\n",
      "http://somewhere#RockySmith http://www.w3.org/2001/vcard-rdf/3.0/Given Rocky\n",
      "http://somewhere#RockySmith http://www.w3.org/2001/vcard-rdf/3.0/FN Rocky Smith\n",
      "http://somewhere#RockySmith http://www.w3.org/2001/vcard-rdf/3.0/Family Smith\n",
      "http://somewhere#RockySmith http://xmlns.com/foaf/0.1/knows http://somewhere#JaneSmith\n",
      "http://somewhere#RockySmith http://xmlns.com/foaf/0.1/knows http://somewhere#SaraJones\n"
     ]
    }
   ],
   "source": [
    "q3 = \"\"\"\n",
    "    SELECT ?individual ?property ?value\n",
    "    WHERE {\n",
    "        {\n",
    "        ?individual a ns:Person .\n",
    "        }\n",
    "        UNION\n",
    "        {\n",
    "        ?individual a ns:Animal .\n",
    "        }\n",
    "        ?individual ?property ?value .\n",
    "    }\n",
    "\"\"\"\n",
    "\n",
    "person_animal_individuals = set()\n",
    "for person in g.subjects(RDF.type, ns.Person):\n",
    "    person_animal_individuals.add(person)\n",
    "\n",
    "for animal in g.subjects(RDF.type, ns.Animal):\n",
    "    person_animal_individuals.add(animal)\n",
    "\n",
    "# Visualize the results\n",
    "print(\"\\nTASK 7.3 Results with RDFLib:\")\n",
    "for individual in person_animal_individuals:\n",
    "    properties = g.predicate_objects(individual)\n",
    "    for prop, value in properties:\n",
    "        print(individual, prop, value)\n",
    "        \n",
    "print(\"\\nTASK 7.3 Results with RDFLib:\")\n",
    "\n",
    "for row in g.query(q3):\n",
    "    print(row.individual, row.property, row.value)"
   ]
  },
  {
   "cell_type": "markdown",
   "metadata": {
    "id": "3NyI7M2VNr9R"
   },
   "source": [
    "**TASK 7.4:  List the name of the persons who know Rocky**"
   ]
  },
  {
   "cell_type": "code",
   "execution_count": 6,
   "metadata": {
    "id": "I_CNoIKdNpbx"
   },
   "outputs": [
    {
     "name": "stdout",
     "output_type": "stream",
     "text": [
      "Sara Jones\n"
     ]
    }
   ],
   "source": [
    "q4 = \"\"\"\n",
    "    SELECT ?personName\n",
    "    WHERE {\n",
    "      ?person rdf:type ns:Person.\n",
    "      ?person <http://xmlns.com/foaf/0.1/knows> <http://somewhere#RockySmith>.\n",
    "      ?person <http://www.w3.org/2001/vcard-rdf/3.0/FN> ?personName.\n",
    "}\n",
    "\"\"\"\n",
    "\n",
    "# Visualize the results\n",
    "for row in g.query(q4):\n",
    "    print(row.personName)"
   ]
  },
  {
   "cell_type": "markdown",
   "metadata": {
    "id": "kyjGsyxDPa2C"
   },
   "source": [
    "**Task 7.5: List the entities who know at least two other entities in the graph**"
   ]
  },
  {
   "cell_type": "code",
   "execution_count": 7,
   "metadata": {
    "id": "yoVwVZUAPaLm"
   },
   "outputs": [
    {
     "name": "stdout",
     "output_type": "stream",
     "text": [
      "http://somewhere#RockySmith\n",
      "http://somewhere#SaraJones\n",
      "http://somewhere#JaneSmith\n"
     ]
    }
   ],
   "source": [
    "q5 = \"\"\"\n",
    "    SELECT ?entity ?count\n",
    "    WHERE {\n",
    "    {\n",
    "        SELECT ?entity (COUNT(?known) AS ?count)\n",
    "        WHERE {\n",
    "            ?entity <http://xmlns.com/foaf/0.1/knows> ?known.\n",
    "        }   GROUP BY ?entity\n",
    "    }\n",
    "    FILTER (?count >= 2)\n",
    "    }\n",
    "\"\"\"\n",
    "\n",
    "# Visualize the results\n",
    "for row in g.query(q5):\n",
    "    print(row.entity)"
   ]
  }
 ],
 "metadata": {
  "colab": {
   "provenance": []
  },
  "kernelspec": {
   "display_name": "Python 3 (ipykernel)",
   "language": "python",
   "name": "python3"
  },
  "language_info": {
   "codemirror_mode": {
    "name": "ipython",
    "version": 3
   },
   "file_extension": ".py",
   "mimetype": "text/x-python",
   "name": "python",
   "nbconvert_exporter": "python",
   "pygments_lexer": "ipython3",
   "version": "3.9.13"
  }
 },
 "nbformat": 4,
 "nbformat_minor": 4
}
