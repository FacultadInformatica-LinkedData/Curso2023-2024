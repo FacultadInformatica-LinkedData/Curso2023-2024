{
  "cells": [
    {
      "cell_type": "markdown",
      "metadata": {
        "id": "nOOPLCHF7hLB"
      },
      "source": [
        "**Task 07: Querying RDF(s)**"
      ]
    },
    {
      "cell_type": "code",
      "execution_count": 10,
      "metadata": {
        "colab": {
          "base_uri": "https://localhost:8080/",
          "height": 211
        },
        "id": "Yl9npCt8n6m-",
        "outputId": "096014c0-f1ad-4bd6-bada-ab3561ff1367"
      },
      "outputs": [
        {
          "name": "stdout",
          "output_type": "stream",
          "text": [
            "Requirement already satisfied: rdflib in c:\\users\\jorgem\\anaconda3\\lib\\site-packages (6.1.1)\n",
            "Requirement already satisfied: isodate in c:\\users\\jorgem\\anaconda3\\lib\\site-packages (from rdflib) (0.6.1)\n",
            "Requirement already satisfied: pyparsing in c:\\users\\jorgem\\anaconda3\\lib\\site-packages (from rdflib) (3.0.9)\n",
            "Requirement already satisfied: setuptools in c:\\users\\jorgem\\anaconda3\\lib\\site-packages (from rdflib) (68.0.0)\n",
            "Requirement already satisfied: six in c:\\users\\jorgem\\anaconda3\\lib\\site-packages (from isodate->rdflib) (1.16.0)\n",
            "Note: you may need to restart the kernel to use updated packages.\n"
          ]
        }
      ],
      "source": [
        "%pip install rdflib\n",
        "github_storage = \"https://raw.githubusercontent.com/FacultadInformatica-LinkedData/Curso2023-2024/master/Assignment4/course_materials\""
      ]
    },
    {
      "cell_type": "markdown",
      "metadata": {
        "id": "XY7aPc86Bqoo"
      },
      "source": [
        "First let's read the RDF file"
      ]
    },
    {
      "cell_type": "code",
      "execution_count": 60,
      "metadata": {
        "colab": {
          "base_uri": "https://localhost:8080/",
          "height": 35
        },
        "id": "9ERh415on7kF",
        "outputId": "395dc571-ef76-4330-cf4b-0b9db3aa5277"
      },
      "outputs": [],
      "source": [
        "from rdflib import Graph, Namespace, Literal\n",
        "from rdflib.namespace import RDF, RDFS\n",
        "g = Graph()\n",
        "g.namespace_manager.bind('ns', Namespace(\"http://somewhere#\"), override=False)\n",
        "g.namespace_manager.bind('vcard', Namespace(\"http://www.w3.org/2001/vcard-rdf/3.0#\"), override=False)\n",
        "g.parse(github_storage+\"/rdf/example6.rdf\", format=\"xml\")\n",
        "\n",
        "\n",
        "\n",
        "ns =Namespace(\"http://somewhere#\")"
      ]
    },
    {
      "cell_type": "markdown",
      "metadata": {
        "id": "qp1oe2Eddsvo"
      },
      "source": [
        "**TASK 7.1: List all subclasses of \"LivingThing\" with RDFLib and SPARQL**"
      ]
    },
    {
      "cell_type": "code",
      "execution_count": 61,
      "metadata": {
        "id": "tRcSWuMHOXBl"
      },
      "outputs": [
        {
          "name": "stdout",
          "output_type": "stream",
          "text": [
            "http://somewhere#Person\n",
            "http://somewhere#Animal\n"
          ]
        }
      ],
      "source": [
        "# TO DO\n",
        "# Visualize the results\n",
        "\n",
        "for s,p,o in g.triples((None,RDFS.subClassOf,ns.LivingThing)):\n",
        "    print(s)\n"
      ]
    },
    {
      "cell_type": "code",
      "execution_count": 73,
      "metadata": {},
      "outputs": [
        {
          "name": "stdout",
          "output_type": "stream",
          "text": [
            "http://somewhere#Person\n",
            "http://somewhere#Animal\n"
          ]
        }
      ],
      "source": [
        "from rdflib.plugins.sparql import prepareQuery\n",
        "\n",
        "\n",
        "q1 = prepareQuery('''\n",
        "  SELECT ?subclass WHERE { \n",
        "    ?subclass rdfs:subClassOf ns:LivingThing. \n",
        "  }\n",
        "  ''',initNs = { \"ns\": Namespace(\"http://somewhere#\"),\"rdfs\": RDFS}\n",
        ")\n",
        "\n",
        "\n",
        "for r in g.query(q1):\n",
        "  print(r.subclass)"
      ]
    },
    {
      "cell_type": "markdown",
      "metadata": {
        "id": "gM3DASkTQQ5Y"
      },
      "source": [
        "**TASK 7.2: List all individuals of \"Person\" with RDFLib and SPARQL (remember the subClasses)**\n"
      ]
    },
    {
      "cell_type": "code",
      "execution_count": 155,
      "metadata": {
        "id": "LiKSPHRzS-XJ"
      },
      "outputs": [
        {
          "name": "stdout",
          "output_type": "stream",
          "text": [
            "http://somewhere#SaraJones\n",
            "http://somewhere#JohnSmith\n",
            "http://somewhere#JimGonzalez\n",
            "http://somewhere#JaneSmith\n",
            "http://somewhere#http://www.w3.org/2001/vcard-rdf/3.0/Family http://www.w3.org/2000/01/rdf-schema#range http://www.w3.org/2001/XMLSchema#string\n",
            "http://somewhere#RockySmith http://xmlns.com/foaf/0.1/knows http://somewhere#SaraJones\n",
            "http://somewhere#Person http://www.w3.org/2000/01/rdf-schema#subClassOf http://somewhere#LivingThing\n",
            "http://somewhere#SaraJones http://www.w3.org/2001/vcard-rdf/3.0/FN Sara Jones\n",
            "http://somewhere#RockySmith http://www.w3.org/2001/vcard-rdf/3.0/Family Smith\n",
            "http://somewhere#PhDstudent http://www.w3.org/2000/01/rdf-schema#subClassOf http://somewhere#Researcher\n",
            "http://somewhere#RockySmith http://www.w3.org/2001/vcard-rdf/3.0/Given Rocky\n",
            "http://somewhere#PhDstudent http://www.w3.org/1999/02/22-rdf-syntax-ns#type http://www.w3.org/2000/01/rdf-schema#Class\n",
            "http://somewhere#JaneSmith http://www.w3.org/1999/02/22-rdf-syntax-ns#type http://somewhere#Researcher\n",
            "http://somewhere#Professor http://www.w3.org/2000/01/rdf-schema#subClassOf http://somewhere#Person\n",
            "http://somewhere#http://www.w3.org/2001/vcard-rdf/3.0/Given http://www.w3.org/2000/01/rdf-schema#range http://www.w3.org/2001/XMLSchema#string\n",
            "http://somewhere#RockySmith http://www.w3.org/1999/02/22-rdf-syntax-ns#type http://somewhere#Animal\n",
            "http://somewhere#JohnSmith http://www.w3.org/2001/vcard-rdf/3.0/Family Smith\n",
            "http://somewhere#JimGonzalez http://www.w3.org/2001/vcard-rdf/3.0/FN Jim Gonzalez\n",
            "http://somewhere#http://www.w3.org/2001/vcard-rdf/3.0/FN http://www.w3.org/1999/02/22-rdf-syntax-ns#type http://www.w3.org/2000/01/rdf-schema#Datatype\n",
            "http://somewhere#RockySmith http://www.w3.org/2001/vcard-rdf/3.0/FN Rocky Smith\n",
            "http://somewhere#Researcher http://www.w3.org/2000/01/rdf-schema#subClassOf http://somewhere#Person\n",
            "http://somewhere#SaraJones http://www.w3.org/2001/vcard-rdf/3.0/Family Jones\n",
            "http://somewhere#JaneSmith http://www.w3.org/2001/vcard-rdf/3.0/Given Jane\n",
            "http://somewhere#University http://www.w3.org/1999/02/22-rdf-syntax-ns#type http://www.w3.org/2000/01/rdf-schema#Class\n",
            "http://somewhere#UPM http://www.w3.org/1999/02/22-rdf-syntax-ns#type http://somewhere#University\n",
            "http://somewhere#JaneSmith http://xmlns.com/foaf/0.1/knows http://somewhere#RockySmith\n",
            "http://somewhere#RockySmith http://xmlns.com/foaf/0.1/knows http://somewhere#JaneSmith\n",
            "http://somewhere#Professor http://www.w3.org/1999/02/22-rdf-syntax-ns#type http://www.w3.org/2000/01/rdf-schema#Class\n",
            "http://somewhere#Person http://www.w3.org/1999/02/22-rdf-syntax-ns#type http://www.w3.org/2000/01/rdf-schema#Class\n",
            "http://somewhere#SaraJones http://xmlns.com/foaf/0.1/knows http://somewhere#JaneSmith\n",
            "http://somewhere#JimGonzalez http://www.w3.org/2001/vcard-rdf/3.0/Family Gonzalez\n",
            "http://somewhere#Animal http://www.w3.org/2000/01/rdf-schema#subClassOf http://somewhere#LivingThing\n",
            "http://somewhere#JimGonzalez http://www.w3.org/2001/vcard-rdf/3.0/Given Jim\n",
            "http://somewhere#http://www.w3.org/2001/vcard-rdf/3.0/FN http://www.w3.org/2000/01/rdf-schema#range http://www.w3.org/2001/XMLSchema#string\n",
            "http://somewhere#Researcher http://www.w3.org/1999/02/22-rdf-syntax-ns#type http://www.w3.org/2000/01/rdf-schema#Class\n",
            "http://somewhere#SaraJones http://xmlns.com/foaf/0.1/knows http://somewhere#RockySmith\n",
            "http://somewhere#LivingThing http://www.w3.org/1999/02/22-rdf-syntax-ns#type http://www.w3.org/2000/01/rdf-schema#Class\n",
            "http://somewhere#SaraJones http://www.w3.org/2001/vcard-rdf/3.0/Given Sara\n",
            "http://somewhere#JaneSmith http://www.w3.org/2001/vcard-rdf/3.0/FN Jane Smith\n",
            "http://somewhere#JohnSmith http://www.w3.org/2001/vcard-rdf/3.0/Given John\n",
            "http://somewhere#JimGonzalez http://www.w3.org/1999/02/22-rdf-syntax-ns#type http://somewhere#Professor\n",
            "http://somewhere#http://www.w3.org/2001/vcard-rdf/3.0/Given http://www.w3.org/1999/02/22-rdf-syntax-ns#type http://www.w3.org/2000/01/rdf-schema#Datatype\n",
            "http://somewhere#JohnSmith http://www.w3.org/2001/vcard-rdf/3.0/FN John Smith\n",
            "http://somewhere#JaneSmith http://xmlns.com/foaf/0.1/knows http://somewhere#SaraJones\n",
            "http://somewhere#Animal http://www.w3.org/1999/02/22-rdf-syntax-ns#type http://www.w3.org/2000/01/rdf-schema#Class\n",
            "http://somewhere#JaneSmith http://www.w3.org/2001/vcard-rdf/3.0/Family Smith\n",
            "http://somewhere#JohnSmith http://www.w3.org/1999/02/22-rdf-syntax-ns#type http://somewhere#Person\n",
            "http://somewhere#http://www.w3.org/2001/vcard-rdf/3.0/Family http://www.w3.org/1999/02/22-rdf-syntax-ns#type http://www.w3.org/2000/01/rdf-schema#Property\n",
            "http://somewhere#SaraJones http://www.w3.org/1999/02/22-rdf-syntax-ns#type http://somewhere#Person\n"
          ]
        }
      ],
      "source": [
        "# TO DO\n",
        "# Visualize the results\n",
        "\n",
        "def list_elems_recursive(elem):\n",
        "    results =[]\n",
        "    classes=[elem]\n",
        "    while classes:\n",
        "        elem = classes.pop()\n",
        "        for s,p,o in g.triples((None,RDF.type,elem)):\n",
        "            results.append((s,p,o))\n",
        "        for s,p,o in g.triples((None,RDFS.subClassOf,elem)):\n",
        "            classes.append(s)\n",
        "    return results\n",
        "\n",
        "\n",
        "\n",
        "for elem in list_elems_recursive(ns.Person):\n",
        "    print(elem[0])\n",
        "    \n",
        "    \n",
        "    \n",
        "for s, p, o in g:\n",
        "    print(s,p,o)\n",
        "\n",
        "       "
      ]
    },
    {
      "cell_type": "code",
      "execution_count": 154,
      "metadata": {},
      "outputs": [
        {
          "name": "stdout",
          "output_type": "stream",
          "text": [
            "http://somewhere#JaneSmith\n",
            "http://somewhere#JimGonzalez\n",
            "http://somewhere#SaraJones\n",
            "http://somewhere#JohnSmith\n"
          ]
        }
      ],
      "source": [
        "q1 = prepareQuery('''\n",
        "  SELECT ?individual  WHERE { \n",
        "    \n",
        "    {\n",
        "      ?individual rdf:type ?subclass.\n",
        "      optional{?subclass rdfs:subClassOf ?subclass.}\n",
        "      ?subclass rdfs:subClassOf ns:Person\n",
        "    }\n",
        "    UNION\n",
        "    {\n",
        "      ?individual rdf:type ns:Person.\n",
        "    }\n",
        "    \n",
        "  }\n",
        "  ''',initNs = { \"ns\": Namespace(\"http://somewhere#\"),\"rdfs\": RDFS,\"rdf\":RDF}\n",
        ")\n",
        "\n",
        "\n",
        "for r in g.query(q1):\n",
        "  print(r.individual)\n",
        "\n"
      ]
    },
    {
      "cell_type": "markdown",
      "metadata": {
        "id": "MXBqtBkJd22I"
      },
      "source": [
        "**TASK 7.3: List all individuals of \"Person\" or \"Animal\" and all their properties including their class with RDFLib and SPARQL. You do not need to list the individuals of the subclasses of person**\n"
      ]
    },
    {
      "cell_type": "code",
      "execution_count": 101,
      "metadata": {
        "id": "APQGv3NHX8Tf"
      },
      "outputs": [
        {
          "name": "stdout",
          "output_type": "stream",
          "text": [
            "Element: http://somewhere#SaraJones\n",
            "Propertie: http://www.w3.org/1999/02/22-rdf-syntax-ns#type http://somewhere#Person\n",
            "Propertie: http://www.w3.org/2001/vcard-rdf/3.0/Given Sara\n",
            "Propertie: http://www.w3.org/2001/vcard-rdf/3.0/FN Sara Jones\n",
            "Propertie: http://www.w3.org/2001/vcard-rdf/3.0/Family Jones\n",
            "Propertie: http://xmlns.com/foaf/0.1/knows http://somewhere#RockySmith\n",
            "Propertie: http://xmlns.com/foaf/0.1/knows http://somewhere#JaneSmith\n",
            "Element: http://somewhere#JohnSmith\n",
            "Propertie: http://www.w3.org/1999/02/22-rdf-syntax-ns#type http://somewhere#Person\n",
            "Propertie: http://www.w3.org/2001/vcard-rdf/3.0/Given John\n",
            "Propertie: http://www.w3.org/2001/vcard-rdf/3.0/FN John Smith\n",
            "Propertie: http://www.w3.org/2001/vcard-rdf/3.0/Family Smith\n",
            "Element: http://somewhere#RockySmith\n",
            "Propertie: http://www.w3.org/1999/02/22-rdf-syntax-ns#type http://somewhere#Animal\n",
            "Propertie: http://www.w3.org/2001/vcard-rdf/3.0/Given Rocky\n",
            "Propertie: http://www.w3.org/2001/vcard-rdf/3.0/FN Rocky Smith\n",
            "Propertie: http://www.w3.org/2001/vcard-rdf/3.0/Family Smith\n",
            "Propertie: http://xmlns.com/foaf/0.1/knows http://somewhere#JaneSmith\n",
            "Propertie: http://xmlns.com/foaf/0.1/knows http://somewhere#SaraJones\n"
          ]
        }
      ],
      "source": [
        "# TO DO\n",
        "# Visualize the results\n",
        "\n",
        "for elem,p,o in g.triples((None,RDF.type,ns.Person)):\n",
        "    print(\"Element:\",elem)\n",
        "    for s,p,o in g.triples((elem,None,None)):\n",
        "        print(\"Propertie:\",p,o)\n",
        "for elem,p,o in g.triples((None,RDF.type,ns.Animal)):\n",
        "    print(\"Element:\",elem)\n",
        "    for s,p,o in g.triples((elem,None,None)):\n",
        "        print(\"Propertie:\",p,o)"
      ]
    },
    {
      "cell_type": "code",
      "execution_count": 165,
      "metadata": {},
      "outputs": [
        {
          "name": "stdout",
          "output_type": "stream",
          "text": [
            "http://somewhere#SaraJones http://www.w3.org/1999/02/22-rdf-syntax-ns#type http://somewhere#Person\n",
            "http://somewhere#SaraJones http://www.w3.org/2001/vcard-rdf/3.0/Given Sara\n",
            "http://somewhere#SaraJones http://www.w3.org/2001/vcard-rdf/3.0/FN Sara Jones\n",
            "http://somewhere#SaraJones http://www.w3.org/2001/vcard-rdf/3.0/Family Jones\n",
            "http://somewhere#SaraJones http://xmlns.com/foaf/0.1/knows http://somewhere#RockySmith\n",
            "http://somewhere#SaraJones http://xmlns.com/foaf/0.1/knows http://somewhere#JaneSmith\n",
            "http://somewhere#JohnSmith http://www.w3.org/1999/02/22-rdf-syntax-ns#type http://somewhere#Person\n",
            "http://somewhere#JohnSmith http://www.w3.org/2001/vcard-rdf/3.0/Given John\n",
            "http://somewhere#JohnSmith http://www.w3.org/2001/vcard-rdf/3.0/FN John Smith\n",
            "http://somewhere#JohnSmith http://www.w3.org/2001/vcard-rdf/3.0/Family Smith\n",
            "http://somewhere#RockySmith http://www.w3.org/1999/02/22-rdf-syntax-ns#type http://somewhere#Animal\n",
            "http://somewhere#RockySmith http://www.w3.org/2001/vcard-rdf/3.0/Given Rocky\n",
            "http://somewhere#RockySmith http://www.w3.org/2001/vcard-rdf/3.0/FN Rocky Smith\n",
            "http://somewhere#RockySmith http://www.w3.org/2001/vcard-rdf/3.0/Family Smith\n",
            "http://somewhere#RockySmith http://xmlns.com/foaf/0.1/knows http://somewhere#JaneSmith\n",
            "http://somewhere#RockySmith http://xmlns.com/foaf/0.1/knows http://somewhere#SaraJones\n"
          ]
        }
      ],
      "source": [
        "q1 = prepareQuery('''\n",
        "  SELECT distinct ?individual ?property ?value WHERE {   \n",
        "    {\n",
        "      ?individual rdf:type ns:Person.\n",
        "      ?individual ?property ?value\n",
        "    }\n",
        "    UNION\n",
        "    {\n",
        "      ?individual rdf:type ns:Animal.\n",
        "      ?individual ?property ?value\n",
        "    }\n",
        "      \n",
        "  }\n",
        "  ''',initNs = { \"ns\": Namespace(\"http://somewhere#\"),\"rdfs\": RDFS,\"rdf\":RDF}\n",
        ")\n",
        "\n",
        "\n",
        "for r in g.query(q1):\n",
        "  print(r.individual,r.property,r.value)"
      ]
    },
    {
      "cell_type": "markdown",
      "metadata": {
        "id": "3NyI7M2VNr9R"
      },
      "source": [
        "**TASK 7.4:  List the name of the persons who know Rocky**"
      ]
    },
    {
      "cell_type": "code",
      "execution_count": 104,
      "metadata": {
        "id": "I_CNoIKdNpbx"
      },
      "outputs": [
        {
          "name": "stdout",
          "output_type": "stream",
          "text": [
            "Sara\n",
            "Jane\n"
          ]
        }
      ],
      "source": [
        "# TO DO\n",
        "# Visualize the results\n",
        "from rdflib import FOAF\n",
        "#con el # no funciona si imprimes todo el grafo esta con / no con #\n",
        "VCARD = Namespace(\"http://www.w3.org/2001/vcard-rdf/3.0/\")\n",
        "rocky =ns.RockySmith\n",
        "for person,p,o in g.triples((None,FOAF.knows,rocky)):\n",
        "    print(g.value(subject=person, predicate=VCARD.Given, object=None))\n",
        "    \n"
      ]
    },
    {
      "cell_type": "markdown",
      "metadata": {
        "id": "kyjGsyxDPa2C"
      },
      "source": [
        "**Task 7.5: List the entities who know at least two other entities in the graph**"
      ]
    },
    {
      "cell_type": "code",
      "execution_count": 113,
      "metadata": {
        "id": "yoVwVZUAPaLm"
      },
      "outputs": [
        {
          "name": "stdout",
          "output_type": "stream",
          "text": [
            "http://somewhere#RockySmith knows http://somewhere#JaneSmith\n",
            "http://somewhere#RockySmith knows http://somewhere#SaraJones\n",
            "\n",
            "http://somewhere#SaraJones knows http://somewhere#RockySmith\n",
            "http://somewhere#SaraJones knows http://somewhere#JaneSmith\n",
            "\n",
            "http://somewhere#RockySmith knows http://somewhere#JaneSmith\n",
            "http://somewhere#RockySmith knows http://somewhere#SaraJones\n",
            "\n",
            "http://somewhere#JaneSmith knows http://somewhere#RockySmith\n",
            "http://somewhere#JaneSmith knows http://somewhere#SaraJones\n",
            "\n",
            "http://somewhere#SaraJones knows http://somewhere#RockySmith\n",
            "http://somewhere#SaraJones knows http://somewhere#JaneSmith\n",
            "\n",
            "http://somewhere#JaneSmith knows http://somewhere#RockySmith\n",
            "http://somewhere#JaneSmith knows http://somewhere#SaraJones\n",
            "\n"
          ]
        }
      ],
      "source": [
        "# TO DO\n",
        "# Visualize the results\n",
        "for person,p,o in g.triples((None,FOAF.knows,None)):\n",
        "  list=[]\n",
        "  for elem in g.triples((person,FOAF.knows,None)):\n",
        "    list.append(elem[2])\n",
        "  if len(list)>=2 :\n",
        "    for elem in list:\n",
        "      print(person,\"knows\",elem)\n",
        "  print(\"\")\n",
        "\n"
      ]
    }
  ],
  "metadata": {
    "colab": {
      "provenance": []
    },
    "kernelspec": {
      "display_name": "Python 3 (ipykernel)",
      "language": "python",
      "name": "python3"
    },
    "language_info": {
      "codemirror_mode": {
        "name": "ipython",
        "version": 3
      },
      "file_extension": ".py",
      "mimetype": "text/x-python",
      "name": "python",
      "nbconvert_exporter": "python",
      "pygments_lexer": "ipython3",
      "version": "3.11.4"
    }
  },
  "nbformat": 4,
  "nbformat_minor": 0
}
