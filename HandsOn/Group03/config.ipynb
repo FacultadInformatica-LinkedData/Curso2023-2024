{
 "cells": [
  {
   "cell_type": "code",
   "execution_count": 2,
   "metadata": {},
   "outputs": [
    {
     "name": "stdout",
     "output_type": "stream",
     "text": [
      "Requirement already satisfied: morph_kgc in c:\\users\\usuario\\appdata\\local\\packages\\pythonsoftwarefoundation.python.3.11_qbz5n2kfra8p0\\localcache\\local-packages\\python311\\site-packages (2.6.3)\n",
      "Requirement already satisfied: duckdb<0.8.0,>=0.7.0 in c:\\users\\usuario\\appdata\\local\\packages\\pythonsoftwarefoundation.python.3.11_qbz5n2kfra8p0\\localcache\\local-packages\\python311\\site-packages (from morph_kgc) (0.7.1)\n",
      "Requirement already satisfied: elementpath<5.0.0,>=4.0.0 in c:\\users\\usuario\\appdata\\local\\packages\\pythonsoftwarefoundation.python.3.11_qbz5n2kfra8p0\\localcache\\local-packages\\python311\\site-packages (from morph_kgc) (4.1.5)\n",
      "Requirement already satisfied: falcon<4.0.0,>=3.0.0 in c:\\users\\usuario\\appdata\\local\\packages\\pythonsoftwarefoundation.python.3.11_qbz5n2kfra8p0\\localcache\\local-packages\\python311\\site-packages (from morph_kgc) (3.1.1)\n",
      "Requirement already satisfied: jsonpath-python<2.0.0,>=1.0.6 in c:\\users\\usuario\\appdata\\local\\packages\\pythonsoftwarefoundation.python.3.11_qbz5n2kfra8p0\\localcache\\local-packages\\python311\\site-packages (from morph_kgc) (1.0.6)\n",
      "Requirement already satisfied: pandas<3.0.0,>=2.0.0 in c:\\users\\usuario\\appdata\\local\\packages\\pythonsoftwarefoundation.python.3.11_qbz5n2kfra8p0\\localcache\\local-packages\\python311\\site-packages (from morph_kgc) (2.1.1)\n",
      "Requirement already satisfied: pyoxigraph<0.4.0,>=0.3.0 in c:\\users\\usuario\\appdata\\local\\packages\\pythonsoftwarefoundation.python.3.11_qbz5n2kfra8p0\\localcache\\local-packages\\python311\\site-packages (from morph_kgc) (0.3.19)\n",
      "Requirement already satisfied: rdflib<8.0.0,>=6.1.1 in c:\\users\\usuario\\appdata\\local\\packages\\pythonsoftwarefoundation.python.3.11_qbz5n2kfra8p0\\localcache\\local-packages\\python311\\site-packages (from morph_kgc) (7.0.0)\n",
      "Requirement already satisfied: ruamel-yaml<1.0.0,>=0.17.0 in c:\\users\\usuario\\appdata\\local\\packages\\pythonsoftwarefoundation.python.3.11_qbz5n2kfra8p0\\localcache\\local-packages\\python311\\site-packages (from morph_kgc) (0.17.35)\n",
      "Requirement already satisfied: sql-metadata<3.0.0,>=2.6.0 in c:\\users\\usuario\\appdata\\local\\packages\\pythonsoftwarefoundation.python.3.11_qbz5n2kfra8p0\\localcache\\local-packages\\python311\\site-packages (from morph_kgc) (2.9.0)\n",
      "Requirement already satisfied: sqlalchemy<3.0.0,>=2.0.0 in c:\\users\\usuario\\appdata\\local\\packages\\pythonsoftwarefoundation.python.3.11_qbz5n2kfra8p0\\localcache\\local-packages\\python311\\site-packages (from morph_kgc) (2.0.22)\n",
      "Requirement already satisfied: numpy>=1.23.2 in c:\\users\\usuario\\appdata\\local\\packages\\pythonsoftwarefoundation.python.3.11_qbz5n2kfra8p0\\localcache\\local-packages\\python311\\site-packages (from pandas<3.0.0,>=2.0.0->morph_kgc) (1.25.2)\n",
      "Requirement already satisfied: python-dateutil>=2.8.2 in c:\\users\\usuario\\appdata\\local\\packages\\pythonsoftwarefoundation.python.3.11_qbz5n2kfra8p0\\localcache\\local-packages\\python311\\site-packages (from pandas<3.0.0,>=2.0.0->morph_kgc) (2.8.2)\n",
      "Requirement already satisfied: pytz>=2020.1 in c:\\users\\usuario\\appdata\\local\\packages\\pythonsoftwarefoundation.python.3.11_qbz5n2kfra8p0\\localcache\\local-packages\\python311\\site-packages (from pandas<3.0.0,>=2.0.0->morph_kgc) (2023.3.post1)\n",
      "Requirement already satisfied: tzdata>=2022.1 in c:\\users\\usuario\\appdata\\local\\packages\\pythonsoftwarefoundation.python.3.11_qbz5n2kfra8p0\\localcache\\local-packages\\python311\\site-packages (from pandas<3.0.0,>=2.0.0->morph_kgc) (2023.3)\n",
      "Requirement already satisfied: isodate<0.7.0,>=0.6.0 in c:\\users\\usuario\\appdata\\local\\packages\\pythonsoftwarefoundation.python.3.11_qbz5n2kfra8p0\\localcache\\local-packages\\python311\\site-packages (from rdflib<8.0.0,>=6.1.1->morph_kgc) (0.6.1)\n",
      "Requirement already satisfied: pyparsing<4,>=2.1.0 in c:\\users\\usuario\\appdata\\local\\packages\\pythonsoftwarefoundation.python.3.11_qbz5n2kfra8p0\\localcache\\local-packages\\python311\\site-packages (from rdflib<8.0.0,>=6.1.1->morph_kgc) (3.0.9)\n",
      "Requirement already satisfied: ruamel.yaml.clib>=0.2.7 in c:\\users\\usuario\\appdata\\local\\packages\\pythonsoftwarefoundation.python.3.11_qbz5n2kfra8p0\\localcache\\local-packages\\python311\\site-packages (from ruamel-yaml<1.0.0,>=0.17.0->morph_kgc) (0.2.8)\n",
      "Requirement already satisfied: sqlparse<0.5.0,>=0.4.1 in c:\\users\\usuario\\appdata\\local\\packages\\pythonsoftwarefoundation.python.3.11_qbz5n2kfra8p0\\localcache\\local-packages\\python311\\site-packages (from sql-metadata<3.0.0,>=2.6.0->morph_kgc) (0.4.4)\n",
      "Requirement already satisfied: typing-extensions>=4.2.0 in c:\\users\\usuario\\appdata\\local\\packages\\pythonsoftwarefoundation.python.3.11_qbz5n2kfra8p0\\localcache\\local-packages\\python311\\site-packages (from sqlalchemy<3.0.0,>=2.0.0->morph_kgc) (4.8.0)\n",
      "Requirement already satisfied: greenlet!=0.4.17 in c:\\users\\usuario\\appdata\\local\\packages\\pythonsoftwarefoundation.python.3.11_qbz5n2kfra8p0\\localcache\\local-packages\\python311\\site-packages (from sqlalchemy<3.0.0,>=2.0.0->morph_kgc) (3.0.0)\n",
      "Requirement already satisfied: six in c:\\users\\usuario\\appdata\\local\\packages\\pythonsoftwarefoundation.python.3.11_qbz5n2kfra8p0\\localcache\\local-packages\\python311\\site-packages (from isodate<0.7.0,>=0.6.0->rdflib<8.0.0,>=6.1.1->morph_kgc) (1.16.0)\n"
     ]
    },
    {
     "name": "stderr",
     "output_type": "stream",
     "text": [
      "C:\\Users\\usuario\\AppData\\Local\\Packages\\PythonSoftwareFoundation.Python.3.11_qbz5n2kfra8p0\\LocalCache\\local-packages\\Python311\\site-packages\\morph_kgc\\mapping\\mapping_parser.py:607: FutureWarning: Setting an item of incompatible dtype is deprecated and will raise in a future error of pandas. Value 'CSV' has dtype incompatible with float64, please explicitly cast to a compatible dtype first.\n",
      "  self.rml_df.at[i, 'source_type'] = file_extension.upper()\n",
      "INFO | 2023-11-05 14:30:33,549 | 25 mapping rules retrieved.\n",
      "INFO | 2023-11-05 14:30:33,576 | Mapping partition with 25 groups generated.\n",
      "INFO | 2023-11-05 14:30:33,578 | Maximum number of rules within mapping group: 1.\n",
      "INFO | 2023-11-05 14:30:33,578 | Mappings processed in 1.230 seconds.\n",
      "INFO | 2023-11-05 14:30:40,995 | Number of triples generated in total: 4436.\n",
      "INFO | 2023-11-05 14:30:40,995 | Materialization finished in 7.415 seconds.\n"
     ]
    }
   ],
   "source": [
    "!pip install morph_kgc\n",
    "!python -m morph_kgc config.ini"
   ]
  }
 ],
 "metadata": {
  "kernelspec": {
   "display_name": "Python 3",
   "language": "python",
   "name": "python3"
  },
  "language_info": {
   "codemirror_mode": {
    "name": "ipython",
    "version": 3
   },
   "file_extension": ".py",
   "mimetype": "text/x-python",
   "name": "python",
   "nbconvert_exporter": "python",
   "pygments_lexer": "ipython3",
   "version": "3.11.6"
  }
 },
 "nbformat": 4,
 "nbformat_minor": 2
}
