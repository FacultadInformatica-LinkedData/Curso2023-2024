{
 "cells": [
  {
   "cell_type": "code",
   "execution_count": 1,
   "metadata": {},
   "outputs": [
    {
     "name": "stdout",
     "output_type": "stream",
     "text": [
      "Requirement already satisfied: rdflib in c:\\users\\usuario\\appdata\\local\\packages\\pythonsoftwarefoundation.python.3.11_qbz5n2kfra8p0\\localcache\\local-packages\\python311\\site-packages (7.0.0)\n",
      "Requirement already satisfied: isodate<0.7.0,>=0.6.0 in c:\\users\\usuario\\appdata\\local\\packages\\pythonsoftwarefoundation.python.3.11_qbz5n2kfra8p0\\localcache\\local-packages\\python311\\site-packages (from rdflib) (0.6.1)\n",
      "Requirement already satisfied: pyparsing<4,>=2.1.0 in c:\\users\\usuario\\appdata\\local\\packages\\pythonsoftwarefoundation.python.3.11_qbz5n2kfra8p0\\localcache\\local-packages\\python311\\site-packages (from rdflib) (3.0.9)\n",
      "Requirement already satisfied: six in c:\\users\\usuario\\appdata\\local\\packages\\pythonsoftwarefoundation.python.3.11_qbz5n2kfra8p0\\localcache\\local-packages\\python311\\site-packages (from isodate<0.7.0,>=0.6.0->rdflib) (1.16.0)\n"
     ]
    }
   ],
   "source": [
    "!pip install rdflib"
   ]
  },
  {
   "cell_type": "code",
   "execution_count": 42,
   "metadata": {},
   "outputs": [
    {
     "name": "stdout",
     "output_type": "stream",
     "text": [
      "Número de tripletas es: 2266\n",
      "Número de resultados: 10\n",
      "Objeto: street Predicado: http://www.wikidata.org/prop/direct/P31\n",
      "Objeto: Category:Calle de Alcalá Predicado: http://www.wikidata.org/prop/direct/P910\n",
      "Objeto: Spain Predicado: http://www.wikidata.org/prop/direct/P17\n",
      "Objeto: Salamanca Predicado: http://www.wikidata.org/prop/direct/P131\n",
      "Objeto: Gran Vía Predicado: http://www.wikidata.org/prop/direct/P2789\n",
      "Objeto: plaza de Cibeles Predicado: http://www.wikidata.org/prop/direct/P2789\n",
      "Objeto: Paseo del Prado Predicado: http://www.wikidata.org/prop/direct/P2789\n",
      "Objeto: Paseo de Recoletos Predicado: http://www.wikidata.org/prop/direct/P2789\n",
      "Objeto: Plaza de la Independencia Predicado: http://www.wikidata.org/prop/direct/P2789\n",
      "Objeto: Calle de O'Donnell, Madrid Predicado: http://www.wikidata.org/prop/direct/P2789\n"
     ]
    }
   ],
   "source": [
    "from rdflib import Graph, URIRef\n",
    "from rdflib.namespace import RDFS, SKOS\n",
    "from rdflib.plugins.sparql import prepareQuery\n",
    "\n",
    "g = Graph()\n",
    "g.parse(\"result-with-links.ttl\", format=\"turtle\")\n",
    "calle = \"calle de Alcalá\"\n",
    "\n",
    "q = prepareQuery('''\n",
    "            PREFIX ns: <http://smartcity.linkeddata.es/lcc/ontology/BicicletasElectricas#> \n",
    "            PREFIX xsd: <http://www.w3.org/2001/XMLSchema#> \n",
    "            PREFIX rdfs: <http://www.w3.org/2000/01/rdf-schema#>   \n",
    "            PREFIX data: <http://smartcity.linkeddata.es/lcc/resource/> \n",
    "            PREFIX owl: <http://www.w3.org/2002/07/owl#>  \n",
    "            PREFIX bicycle: <data:BicycleStation> \n",
    "            PREFIX district: <data:District> \n",
    "            PREFIX direction: <data:Direction>  \n",
    "            PREFIX hood: <data:Neighbourhood>  \n",
    "            PREFIX street: <data:Street>           \n",
    "\n",
    "            SELECT ?Key WHERE {\n",
    "                ?Street rdfs:label \"''' + calle + '''\". \n",
    "                ?Street owl:sameAs ?Key\n",
    "            } LIMIT 1''')\n",
    "        \n",
    "for r in g.query(q):\n",
    "    prueba = r.Key\n",
    "clave = prueba.split('/')\n",
    "\n",
    "grafo = Graph()\n",
    "grafo.parse(\"https://www.wikidata.org/wiki/Special:EntityData/Q2424746.ttl\")\n",
    "print(f\"Número de tripletas es: {len(grafo)}\")\n",
    "\n",
    "q = grafo.query(\"\"\"SELECT ?p ?label_objeto\n",
    "                    WHERE \n",
    "                    {\n",
    "                    wd:Q2424746 ?p ?objeto.\n",
    "                    ?objeto rdfs:label ?label_objeto.\n",
    "                    }LIMIT 10\"\"\")\n",
    "\n",
    "print(f\"Número de resultados: {len(q)}\")\n",
    "\n",
    "\n",
    "for p, label_objeto in q:\n",
    "   print(f'Objeto: {label_objeto} Predicado: {p}')"
   ]
  },
  {
   "cell_type": "code",
   "execution_count": 46,
   "metadata": {},
   "outputs": [
    {
     "name": "stdout",
     "output_type": "stream",
     "text": [
      "Número de tripletas es: 4655\n",
      "Número de tripletas es: 2266\n",
      "Número de querys es: 5\n",
      "Clave: http://www.wikidata.org/prop/direct/P31  Valor: street\n",
      "Clave: http://www.wikidata.org/prop/direct/P910  Valor: Category:Calle de Alcalá\n",
      "Clave: http://www.wikidata.org/prop/direct/P17  Valor: Spain\n",
      "Clave: http://www.wikidata.org/prop/direct/P131  Valor: Salamanca\n",
      "Clave: http://www.wikidata.org/prop/direct/P2789  Valor: Gran Vía\n"
     ]
    },
    {
     "data": {
      "text/plain": [
       "5"
      ]
     },
     "execution_count": 46,
     "metadata": {},
     "output_type": "execute_result"
    }
   ],
   "source": [
    "from rdflib import Graph, URIRef\n",
    "from rdflib.namespace import RDFS, SKOS\n",
    "from rdflib.plugins.sparql import prepareQuery\n",
    "g = Graph()\n",
    "g.parse('../data/result-with-links.ttl', format=\"turtle\")\n",
    "\n",
    "calle = \"calle de Alcalá\"\n",
    "q = prepareQuery('''\n",
    "            PREFIX ns: <http://smartcity.linkeddata.es/lcc/ontology/BicicletasElectricas#> \n",
    "            PREFIX xsd: <http://www.w3.org/2001/XMLSchema#> \n",
    "            PREFIX rdfs: <http://www.w3.org/2000/01/rdf-schema#>   \n",
    "            PREFIX data: <http://smartcity.linkeddata.es/lcc/resource/> \n",
    "            PREFIX owl: <http://www.w3.org/2002/07/owl#>   \n",
    "            PREFIX bicycle: <data:BicycleStation> \n",
    "            PREFIX district: <data:District> \n",
    "            PREFIX direction: <data:Direction>  \n",
    "            PREFIX hood: <data:Neighbourhood>  \n",
    "            PREFIX street: <data:Street>           \n",
    "\n",
    "            SELECT ?Key WHERE {\n",
    "                ?Street rdfs:label \"''' + calle + '''\". \n",
    "                ?Street owl:sameAs ?Key\n",
    "            } LIMIT 1'''\n",
    "        )\n",
    "print(f\"Número de tripletas es: {len(g)}\")\n",
    "\n",
    "\n",
    "        ##ADAPTER##\n",
    "clave = ''\n",
    "for r in g.query(q):\n",
    "    clave= r.Key.split('/')\n",
    "\n",
    "        #DESCARGAMOS LA PAGINA DE WIKIDATA QUE NOS INTERESA\n",
    "grafo = Graph()\n",
    "grafo.parse(\"https://www.wikidata.org/wiki/Special:EntityData/\"+clave[-1]+\".ttl\")\n",
    "\n",
    "print(f\"Número de tripletas es: {len(grafo)}\")\n",
    "\n",
    "        #CONSULTAMOS A ESA PAGINA DESCARGADA, CON prepareQuery ESTO NO FUNCIONA\n",
    "q = grafo.query(\"\"\"SELECT ?p ?label_objeto\n",
    "                    WHERE \n",
    "                    {\n",
    "                        wd:\"\"\"+clave[-1]+\"\"\" ?p ?objeto.\n",
    "                        ?objeto rdfs:label ?label_objeto.\n",
    "                    }LIMIT 5\"\"\")\n",
    "        \n",
    "print(f\"Número de querys es: {len(q)}\")\n",
    "        #HACEMOS UN ADAPTER PARA RETENER LOS VALORES\n",
    "valores = {}\n",
    "for p, label_objeto in q:\n",
    "    valores[p] = label_objeto\n",
    "\n",
    "if len(valores) == 0:\n",
    "    valores['resultado'] = \"No tiene ningun link con datos de WIKIDATA\"\n",
    "\n",
    "for clave, valor in valores.items():\n",
    "    print(f'Clave: {clave}  Valor: {valor}')\n",
    "\n",
    "len(valores)"
   ]
  },
  {
   "cell_type": "code",
   "execution_count": 4,
   "metadata": {},
   "outputs": [
    {
     "name": "stdout",
     "output_type": "stream",
     "text": [
      "http://smartcity.linkeddata.es/lcc/resource/Street/GlorietaDelMarquesDeVadillo\n",
      "http://smartcity.linkeddata.es/lcc/resource/Street/CalleDeSanDelfin\n"
     ]
    }
   ],
   "source": [
    "from rdflib import Graph\n",
    "from rdflib.plugins.sparql import prepareQuery\n",
    "g = Graph()\n",
    "g.parse(\"result-with-links.ttl\", format=\"turtle\")\n",
    "distrito = \"Carabanchel\"\n",
    "\n",
    "q = prepareQuery('''\n",
    "            PREFIX ns: <http://smartcity.linkeddata.es/lcc/ontology/BicicletasElectricas#> \n",
    "            PREFIX xsd: <http://www.w3.org/2001/XMLSchema#> \n",
    "            PREFIX rdfs: <http://www.w3.org/2000/01/rdf-schema#>   \n",
    "            PREFIX data: <http://smartcity.linkeddata.es/lcc/resource/>  \n",
    "            PREFIX bicycle: <data:BicycleStation> \n",
    "            PREFIX district: <data:District> \n",
    "            PREFIX direction: <data:Direction>  \n",
    "            PREFIX hood: <data:Neighbourhood>  \n",
    "            PREFIX street: <data:Street>           \n",
    "\n",
    "            SELECT ?Street WHERE {\n",
    "                ?District rdfs:label \"''' + distrito + '''\". \n",
    "                ?Hood ns:neighbourhoodBelongsDistrict ?District.                \n",
    "                ?Direction ns:directionBelongsNeighbourhood ?Hood. \n",
    "                ?Direction ns:hasStreet ?Street.\n",
    "            } LIMIT 25''')\n",
    "        \n",
    "for r in g.query(q):\n",
    "    print(r.Street)"
   ]
  }
 ],
 "metadata": {
  "kernelspec": {
   "display_name": "env",
   "language": "python",
   "name": "python3"
  },
  "language_info": {
   "codemirror_mode": {
    "name": "ipython",
    "version": 3
   },
   "file_extension": ".py",
   "mimetype": "text/x-python",
   "name": "python",
   "nbconvert_exporter": "python",
   "pygments_lexer": "ipython3",
   "version": "3.11.6"
  }
 },
 "nbformat": 4,
 "nbformat_minor": 2
}
